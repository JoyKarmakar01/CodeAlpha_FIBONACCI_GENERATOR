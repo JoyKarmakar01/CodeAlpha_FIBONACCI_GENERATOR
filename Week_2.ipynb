{
  "nbformat": 4,
  "nbformat_minor": 0,
  "metadata": {
    "colab": {
      "provenance": []
    },
    "kernelspec": {
      "name": "python3",
      "display_name": "Python 3"
    },
    "language_info": {
      "name": "python"
    }
  },
  "cells": [
    {
      "cell_type": "markdown",
      "source": [
        "# **Name : Joy Karmakar**\n",
        "# **Intern at CodeAlpha**\n",
        "\n",
        "#**TASK 1 :  Generate a Fibonacci Sequence**\n",
        "\n"
      ],
      "metadata": {
        "id": "egGhO_k7w8C4"
      }
    },
    {
      "cell_type": "markdown",
      "source": [
        "#**What is Fibonacci Sequence:**\n",
        "\n",
        "**The Fibonacci sequence is a fascinating mathematical sequence where each number is the sum of the two preceding numbers. It has wide-ranging applications in various fields, including mathematics, computer science, and even nature. In this project, we will create a Python program to generate the Fibonacci sequence and present it within the user-friendly**"
      ],
      "metadata": {
        "id": "Kps5UB-Hx_fZ"
      }
    },
    {
      "cell_type": "markdown",
      "source": [
        "#**Objective:**\n",
        "\n",
        "**The primary objective of this project is to develop a Jupyter Notebook-based tool that allows users to input the number of terms they want in the Fibonacci sequence and then displays the corresponding sequence. This interactive program will serve as a practical example of how to implement a basic algorithm in Python and present the results in a visually engaging format.**"
      ],
      "metadata": {
        "id": "iFcDhqXYxw-9"
      }
    },
    {
      "cell_type": "code",
      "source": [
        "# Function to generate a Fibonacci sequence\n",
        "def generate_fibonacci(n):\n",
        "    fibonacci_sequence = [0, 1]  # Initialize the sequence with the first two numbers\n",
        "\n",
        "    if n <= 0:\n",
        "        return []\n",
        "    elif n == 1:\n",
        "        return [0]\n",
        "    elif n == 2:\n",
        "        return fibonacci_sequence\n",
        "\n",
        "    while len(fibonacci_sequence) < n:\n",
        "        next_number = fibonacci_sequence[-1] + fibonacci_sequence[-2]\n",
        "        fibonacci_sequence.append(next_number)\n",
        "\n",
        "    return fibonacci_sequence\n",
        "\n",
        "# Input the number of terms you want in the Fibonacci sequence\n",
        "n = int(input(\"Enter the number of terms in the Fibonacci sequence: \"))\n",
        "\n",
        "# Generate and print the Fibonacci sequence\n",
        "fibonacci_sequence = generate_fibonacci(n)\n",
        "print(\"Fibonacci Sequence:\")\n",
        "print(fibonacci_sequence)"
      ],
      "metadata": {
        "colab": {
          "base_uri": "https://localhost:8080/"
        },
        "id": "0CAL934zzVcj",
        "outputId": "4c11d7fb-d235-439a-f596-7d981c819451"
      },
      "execution_count": 1,
      "outputs": [
        {
          "output_type": "stream",
          "name": "stdout",
          "text": [
            "Enter the number of terms in the Fibonacci sequence: 8\n",
            "Fibonacci Sequence:\n",
            "[0, 1, 1, 2, 3, 5, 8, 13]\n"
          ]
        }
      ]
    },
    {
      "cell_type": "markdown",
      "source": [
        "#**Conclusion:**\n",
        "\n",
        "**Our project created a fun program in Jupyter Notebook to show Fibonacci numbers. It's a cool math trick.**"
      ],
      "metadata": {
        "id": "U8fXt74vyr_Y"
      }
    }
  ]
}